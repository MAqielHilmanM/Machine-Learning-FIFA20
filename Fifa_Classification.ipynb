{
 "cells": [
  {
   "cell_type": "markdown",
   "metadata": {},
   "source": [
    "# Step Final : Classification"
   ]
  },
  {
   "cell_type": "markdown",
   "metadata": {},
   "source": [
    "pada tahapan ini dilakukan eksperimen dan klasifikasi terhadap dataset yang sudah bersih"
   ]
  },
  {
   "cell_type": "code",
   "execution_count": 1,
   "metadata": {},
   "outputs": [],
   "source": [
    "# import library\n",
    "import numpy as np\n",
    "\n",
    "from sklearn.ensemble import RandomForestClassifier\n",
    "from sklearn import svm\n",
    "from sklearn.neighbors import KNeighborsClassifier\n",
    "from sklearn.naive_bayes import MultinomialNB\n",
    "from sklearn.linear_model import LogisticRegression\n",
    "\n",
    "from pprint import pprint\n",
    "\n",
    "from sklearn.model_selection import RandomizedSearchCV\n",
    "from sklearn.model_selection import GridSearchCV\n",
    "from sklearn.metrics import classification_report, confusion_matrix, accuracy_score\n",
    "from sklearn.model_selection import ShuffleSplit\n",
    "\n",
    "import matplotlib.pyplot as plt\n",
    "import seaborn as sns\n",
    "import pandas as pd\n",
    "\n",
    "import pickle"
   ]
  },
  {
   "cell_type": "code",
   "execution_count": 2,
   "metadata": {},
   "outputs": [],
   "source": [
    "# load all feature\n",
    "feature1_df_path = 'Data/feature1_fifa.csv'\n",
    "feature1_df = pd.read_csv(feature1_df_path,sep=';')\n",
    "\n",
    "feature1_df_x_train_path = 'Data/feature1_X_train.csv'\n",
    "feature1_df_x_train = pd.read_csv(feature1_df_x_train_path,sep=';')\n",
    "\n",
    "feature1_df_x_test_path = 'Data/feature1_X_test.csv'\n",
    "feature1_df_x_test = pd.read_csv(feature1_df_x_test_path,sep=';')\n",
    "\n",
    "feature1_df_y_train_path = 'Data/feature1_Y_train.csv'\n",
    "feature1_df_y_train = pd.read_csv(feature1_df_y_train_path,sep=';')\n",
    "\n",
    "feature1_df_y_test_path = 'Data/feature1_Y_test.csv'\n",
    "feature1_df_y_test = pd.read_csv(feature1_df_y_test_path,sep=';')\n",
    "\n",
    "feature2_df_path = 'Data/feature2_fifa.csv'\n",
    "feature2_df = pd.read_csv(feature2_df_path,sep=';')\n",
    "\n",
    "feature2_df_x_train_path = 'Data/feature2_X_train.csv'\n",
    "feature2_df_x_train = pd.read_csv(feature2_df_x_train_path,sep=';')\n",
    "\n",
    "feature2_df_x_test_path = 'Data/feature2_X_test.csv'\n",
    "feature2_df_x_test = pd.read_csv(feature2_df_x_test_path,sep=';')\n",
    "\n",
    "feature2_df_y_train_path = 'Data/feature2_Y_train.csv'\n",
    "feature2_df_y_train = pd.read_csv(feature2_df_y_train_path,sep=';')\n",
    "\n",
    "feature2_df_y_test_path = 'Data/feature2_Y_test.csv'\n",
    "feature2_df_y_test = pd.read_csv(feature2_df_y_test_path,sep=';')"
   ]
  },
  {
   "cell_type": "code",
   "execution_count": 3,
   "metadata": {},
   "outputs": [
    {
     "name": "stdout",
     "output_type": "stream",
     "text": [
      "(18038, 15)\n",
      "(15332, 15)\n",
      "(2706, 15)\n",
      "(15332, 1)\n",
      "(2706, 1)\n",
      "\n",
      "(18038, 37)\n",
      "(15332, 37)\n",
      "(2706, 37)\n",
      "(15332, 1)\n",
      "(2706, 1)\n"
     ]
    }
   ],
   "source": [
    "print(feature1_df.shape)\n",
    "print(feature1_df_x_train.shape)\n",
    "print(feature1_df_x_test.shape)\n",
    "print(feature1_df_y_train.shape)\n",
    "print(feature1_df_y_test.shape)\n",
    "\n",
    "print()\n",
    "\n",
    "print(feature2_df.shape)\n",
    "print(feature2_df_x_train.shape)\n",
    "print(feature2_df_x_test.shape)\n",
    "print(feature2_df_y_train.shape)\n",
    "print(feature2_df_y_test.shape)"
   ]
  },
  {
   "cell_type": "markdown",
   "metadata": {},
   "source": [
    "# Klasifikasi Fitur 1 menggunakan SVM"
   ]
  },
  {
   "cell_type": "code",
   "execution_count": 5,
   "metadata": {},
   "outputs": [
    {
     "name": "stdout",
     "output_type": "stream",
     "text": [
      "Parameters currently in use in SVM\n",
      "{'C': 1.0,\n",
      " 'break_ties': False,\n",
      " 'cache_size': 200,\n",
      " 'class_weight': None,\n",
      " 'coef0': 0.0,\n",
      " 'decision_function_shape': 'ovr',\n",
      " 'degree': 3,\n",
      " 'gamma': 'scale',\n",
      " 'kernel': 'rbf',\n",
      " 'max_iter': -1,\n",
      " 'probability': False,\n",
      " 'random_state': 8,\n",
      " 'shrinking': True,\n",
      " 'tol': 0.001,\n",
      " 'verbose': False}\n"
     ]
    }
   ],
   "source": [
    "# prepare parameters\n",
    "classifier = svm.SVC(random_state=8)\n",
    "print('Parameters currently in use in SVM')\n",
    "pprint(classifier.get_params())"
   ]
  },
  {
   "cell_type": "code",
   "execution_count": 6,
   "metadata": {},
   "outputs": [
    {
     "name": "stdout",
     "output_type": "stream",
     "text": [
      "{'C': [0.0001, 0.001, 0.01],\n",
      " 'degree': [1, 2, 3, 4, 5],\n",
      " 'gamma': [0.0001, 0.001, 0.01, 0.1, 1, 10, 100],\n",
      " 'kernel': ['linear', 'rbf', 'poly']}\n"
     ]
    }
   ],
   "source": [
    "# Create the random grid SVM\n",
    "random_grid = {'C': [.0001, .001, .01],\n",
    "              'kernel': ['linear', 'rbf', 'poly'],\n",
    "              'gamma': [.0001, .001, .01, .1, 1, 10, 100],\n",
    "              'degree': [1, 2, 3, 4, 5]\n",
    "             }\n",
    "\n",
    "pprint(random_grid)"
   ]
  },
  {
   "cell_type": "code",
   "execution_count": 7,
   "metadata": {},
   "outputs": [
    {
     "data": {
      "text/html": [
       "<div>\n",
       "<style scoped>\n",
       "    .dataframe tbody tr th:only-of-type {\n",
       "        vertical-align: middle;\n",
       "    }\n",
       "\n",
       "    .dataframe tbody tr th {\n",
       "        vertical-align: top;\n",
       "    }\n",
       "\n",
       "    .dataframe thead th {\n",
       "        text-align: right;\n",
       "    }\n",
       "</style>\n",
       "<table border=\"1\" class=\"dataframe\">\n",
       "  <thead>\n",
       "    <tr style=\"text-align: right;\">\n",
       "      <th></th>\n",
       "      <th>team_position</th>\n",
       "    </tr>\n",
       "  </thead>\n",
       "  <tbody>\n",
       "    <tr>\n",
       "      <th>0</th>\n",
       "      <td>6</td>\n",
       "    </tr>\n",
       "    <tr>\n",
       "      <th>1</th>\n",
       "      <td>19</td>\n",
       "    </tr>\n",
       "    <tr>\n",
       "      <th>2</th>\n",
       "      <td>19</td>\n",
       "    </tr>\n",
       "    <tr>\n",
       "      <th>3</th>\n",
       "      <td>11</td>\n",
       "    </tr>\n",
       "    <tr>\n",
       "      <th>4</th>\n",
       "      <td>14</td>\n",
       "    </tr>\n",
       "  </tbody>\n",
       "</table>\n",
       "</div>"
      ],
      "text/plain": [
       "   team_position\n",
       "0              6\n",
       "1             19\n",
       "2             19\n",
       "3             11\n",
       "4             14"
      ]
     },
     "execution_count": 7,
     "metadata": {},
     "output_type": "execute_result"
    },
    {
     "data": {
      "image/png": "[encoded data removed]",
      "text/plain": [
       "<Figure size 432x288 with 2 Axes>"
      ]
     },
     "metadata": {
      "needs_background": "light"
     },
     "output_type": "display_data"
    }
   ],
   "source": [
    "# check null for label\n",
    "heatmap = sns.heatmap(feature1_df_y_train.isna())\n",
    "feature1_df_y_train.head()"
   ]
  },
  {
   "cell_type": "code",
   "execution_count": 8,
   "metadata": {},
   "outputs": [
    {
     "name": "stdout",
     "output_type": "stream",
     "text": [
      "Fitting 3 folds for each of 50 candidates, totalling 150 fits\n"
     ]
    },
    {
     "name": "stderr",
     "output_type": "stream",
     "text": [
      "[Parallel(n_jobs=-1)]: Using backend LokyBackend with 4 concurrent workers.\n",
      "[Parallel(n_jobs=-1)]: Done  42 tasks      | elapsed:  2.6min\n",
      "[Parallel(n_jobs=-1)]: Done 150 out of 150 | elapsed:  7.9min finished\n"
     ]
    },
    {
     "name": "stdout",
     "output_type": "stream",
     "text": [
      "Fitting 3 folds for each of 50 candidates, totalling 150 fits\n"
     ]
    },
    {
     "name": "stderr",
     "output_type": "stream",
     "text": [
      "[Parallel(n_jobs=-1)]: Using backend LokyBackend with 4 concurrent workers.\n",
      "[Parallel(n_jobs=-1)]: Done  42 tasks      | elapsed:  4.6min\n",
      "[Parallel(n_jobs=-1)]: Done 150 out of 150 | elapsed: 14.9min finished\n"
     ]
    },
    {
     "name": "stdout",
     "output_type": "stream",
     "text": [
      "Hyperparameter Random Search Feature 1:\n",
      "{'kernel': 'poly', 'gamma': 10, 'degree': 4, 'C': 0.01}\n",
      "\n",
      "Mean Accuracy Random Search Feature 1:\n",
      "0.991912293337101\n",
      "\n",
      "===============================================\n",
      "\n",
      "Hyperparameter Random Search Feature 2:\n",
      "{'kernel': 'poly', 'gamma': 10, 'degree': 4, 'C': 0.01}\n",
      "\n",
      "Mean Accuracy Random Search Feature 2:\n",
      "0.8748366562380387\n"
     ]
    }
   ],
   "source": [
    "# Definition of the random search\n",
    "random_search1 = RandomizedSearchCV(estimator=classifier,\n",
    "                                   param_distributions=random_grid,\n",
    "                                   n_iter=50,\n",
    "                                   scoring='accuracy',\n",
    "                                   cv=3, \n",
    "                                   verbose=1, \n",
    "                                   random_state=8,\n",
    "                                   n_jobs=-1)\n",
    "random_search2 = RandomizedSearchCV(estimator=classifier,\n",
    "                                   param_distributions=random_grid,\n",
    "                                   n_iter=50,\n",
    "                                   scoring='accuracy',\n",
    "                                   cv=3, \n",
    "                                   verbose=1, \n",
    "                                   random_state=8,\n",
    "                                   n_jobs=-1)\n",
    "\n",
    "# Fit the random search model\n",
    "random_search1.fit(feature1_df_x_train, feature1_df_y_train.values.ravel())\n",
    "random_search2.fit(feature2_df_x_train, feature2_df_y_train.values.ravel())\n",
    "\n",
    "# Result Tunning param using Random Search\n",
    "print(\"Hyperparameter Random Search Feature 1:\")\n",
    "print(random_search1.best_params_)\n",
    "print(\"\")\n",
    "print(\"Mean Accuracy Random Search Feature 1:\")\n",
    "print(random_search1.best_score_)\n",
    "print()\n",
    "print(\"===============================================\")\n",
    "print()\n",
    "print(\"Hyperparameter Random Search Feature 2:\")\n",
    "print(random_search2.best_params_)\n",
    "print(\"\")\n",
    "print(\"Mean Accuracy Random Search Feature 2:\")\n",
    "print(random_search2.best_score_)"
   ]
  },
  {
   "cell_type": "code",
   "execution_count": 9,
   "metadata": {},
   "outputs": [
    {
     "name": "stdout",
     "output_type": "stream",
     "text": [
      "SVC(C=0.01, break_ties=False, cache_size=200, class_weight=None, coef0=0.0,\n",
      "    decision_function_shape='ovr', degree=4, gamma=10, kernel='poly',\n",
      "    max_iter=-1, probability=False, random_state=8, shrinking=True, tol=0.001,\n",
      "    verbose=False)\n",
      "\n",
      "SVC(C=0.01, break_ties=False, cache_size=200, class_weight=None, coef0=0.0,\n",
      "    decision_function_shape='ovr', degree=4, gamma=10, kernel='poly',\n",
      "    max_iter=-1, probability=False, random_state=8, shrinking=True, tol=0.001,\n",
      "    verbose=False)\n"
     ]
    }
   ],
   "source": [
    "# get best classifier with tunning parameter\n",
    "best_classifier_SVM1 = random_search1.best_estimator_ #feature1\n",
    "best_classifier_SVM2 = random_search2.best_estimator_ #feature2\n",
    "\n",
    "print(best_classifier_SVM1)\n",
    "print(\"\")\n",
    "print(best_classifier_SVM2)"
   ]
  },
  {
   "cell_type": "code",
   "execution_count": 13,
   "metadata": {},
   "outputs": [
    {
     "data": {
      "text/plain": [
       "SVC(C=0.01, break_ties=False, cache_size=200, class_weight=None, coef0=0.0,\n",
       "    decision_function_shape='ovr', degree=4, gamma=10, kernel='poly',\n",
       "    max_iter=-1, probability=False, random_state=8, shrinking=True, tol=0.001,\n",
       "    verbose=False)"
      ]
     },
     "execution_count": 13,
     "metadata": {},
     "output_type": "execute_result"
    }
   ],
   "source": [
    "# fit the train  data\n",
    "best_classifier_SVM1.fit(feature1_df_x_train, feature1_df_y_train.values.ravel()) #feature1\n",
    "best_classifier_SVM2.fit(feature2_df_x_train, feature2_df_y_train.values.ravel()) #feature2"
   ]
  },
  {
   "cell_type": "code",
   "execution_count": 11,
   "metadata": {},
   "outputs": [
    {
     "data": {
      "text/plain": [
       "SVC(C=1.0, break_ties=False, cache_size=200, class_weight=None, coef0=0.0,\n",
       "    decision_function_shape='ovr', degree=3, gamma='auto', kernel='rbf',\n",
       "    max_iter=-1, probability=False, random_state=None, shrinking=True,\n",
       "    tol=0.001, verbose=False)"
      ]
     },
     "execution_count": 11,
     "metadata": {},
     "output_type": "execute_result"
    }
   ],
   "source": [
    "# compare accuracy with SVM without tunning parameter\n",
    "base_model_svm1 = svm.SVC(gamma='auto')\n",
    "base_model_svm2 = svm.SVC(gamma='auto')\n",
    "\n",
    "base_model_svm1.fit(feature1_df_x_train,feature1_df_y_train.values.ravel())\n",
    "base_model_svm2.fit(feature2_df_x_train,feature2_df_y_train.values.ravel())\n",
    "\n",
    "# accuracy_score(feature1_df_y_test, bm1.predict(feature1_df_x_test))"
   ]
  },
  {
   "cell_type": "code",
   "execution_count": 14,
   "metadata": {},
   "outputs": [
    {
     "data": {
      "text/html": [
       "<div>\n",
       "<style scoped>\n",
       "    .dataframe tbody tr th:only-of-type {\n",
       "        vertical-align: middle;\n",
       "    }\n",
       "\n",
       "    .dataframe tbody tr th {\n",
       "        vertical-align: top;\n",
       "    }\n",
       "\n",
       "    .dataframe thead th {\n",
       "        text-align: right;\n",
       "    }\n",
       "</style>\n",
       "<table border=\"1\" class=\"dataframe\">\n",
       "  <thead>\n",
       "    <tr style=\"text-align: right;\">\n",
       "      <th></th>\n",
       "      <th>Model</th>\n",
       "      <th>Training Set Accuracy</th>\n",
       "      <th>Test Set Accuracy</th>\n",
       "    </tr>\n",
       "  </thead>\n",
       "  <tbody>\n",
       "    <tr>\n",
       "      <th>0</th>\n",
       "      <td>SVM feature 1 - Tunning</td>\n",
       "      <td>1.00000</td>\n",
       "      <td>0.995935</td>\n",
       "    </tr>\n",
       "    <tr>\n",
       "      <th>1</th>\n",
       "      <td>SVM feature 1 - Original</td>\n",
       "      <td>0.95330</td>\n",
       "      <td>0.943089</td>\n",
       "    </tr>\n",
       "    <tr>\n",
       "      <th>2</th>\n",
       "      <td>SVM feature 2 - Tunning</td>\n",
       "      <td>1.00000</td>\n",
       "      <td>0.889874</td>\n",
       "    </tr>\n",
       "    <tr>\n",
       "      <th>3</th>\n",
       "      <td>SVM feature 2 - Original</td>\n",
       "      <td>0.90347</td>\n",
       "      <td>0.880266</td>\n",
       "    </tr>\n",
       "  </tbody>\n",
       "</table>\n",
       "</div>"
      ],
      "text/plain": [
       "                      Model  Training Set Accuracy  Test Set Accuracy\n",
       "0   SVM feature 1 - Tunning                1.00000           0.995935\n",
       "1  SVM feature 1 - Original                0.95330           0.943089\n",
       "2   SVM feature 2 - Tunning                1.00000           0.889874\n",
       "3  SVM feature 2 - Original                0.90347           0.880266"
      ]
     },
     "execution_count": 14,
     "metadata": {},
     "output_type": "execute_result"
    }
   ],
   "source": [
    "# show the accuracy score\n",
    "d = [\n",
    "    {\n",
    "     'Model': 'SVM feature 1 - Tunning',\n",
    "     'Training Set Accuracy': accuracy_score(feature1_df_y_train, best_classifier_SVM1.predict(feature1_df_x_train)),\n",
    "     'Test Set Accuracy': accuracy_score(feature1_df_y_test, best_classifier_SVM1.predict(feature1_df_x_test))},\n",
    "    {\n",
    "     'Model': 'SVM feature 1 - Original',\n",
    "     'Training Set Accuracy': accuracy_score(feature1_df_y_train, base_model_svm1.predict(feature1_df_x_train)),\n",
    "     'Test Set Accuracy': accuracy_score(feature1_df_y_test, base_model_svm1.predict(feature1_df_x_test))},\n",
    "    {\n",
    "     'Model': 'SVM feature 2 - Tunning',\n",
    "     'Training Set Accuracy': accuracy_score(feature2_df_y_train, best_classifier_SVM2.predict(feature2_df_x_train)),\n",
    "     'Test Set Accuracy': accuracy_score(feature2_df_y_test, best_classifier_SVM2.predict(feature2_df_x_test))},\n",
    "    {\n",
    "     'Model': 'SVM feature 2 - Original',\n",
    "     'Training Set Accuracy': accuracy_score(feature2_df_y_train, base_model_svm2.predict(feature2_df_x_train)),\n",
    "     'Test Set Accuracy': accuracy_score(feature2_df_y_test,  base_model_svm2.predict(feature2_df_x_test))}\n",
    "]\n",
    "\n",
    "df_models = pd.DataFrame(d)\n",
    "df_models"
   ]
  },
  {
   "cell_type": "markdown",
   "metadata": {
    "slideshow": {
     "slide_type": "notes"
    }
   },
   "source": [
    "# Klasifikasi Fitur 2 menggunakan KNN"
   ]
  },
  {
   "cell_type": "code",
   "execution_count": 15,
   "metadata": {},
   "outputs": [
    {
     "name": "stdout",
     "output_type": "stream",
     "text": [
      "Parameters in KNN\n",
      "{'algorithm': 'auto',\n",
      " 'leaf_size': 30,\n",
      " 'metric': 'minkowski',\n",
      " 'metric_params': None,\n",
      " 'n_jobs': None,\n",
      " 'n_neighbors': 5,\n",
      " 'p': 2,\n",
      " 'weights': 'uniform'}\n"
     ]
    }
   ],
   "source": [
    "# prepare classification\n",
    "classifier = KNeighborsClassifier()\n",
    "\n",
    "print('Parameters in KNN')\n",
    "pprint(classifier.get_params())"
   ]
  },
  {
   "cell_type": "code",
   "execution_count": 16,
   "metadata": {},
   "outputs": [],
   "source": [
    "# Create the parameter grid based on the results of random search \n",
    "param_grid = {\n",
    "    'n_neighbors':[5,6,7,8,9,10],\n",
    "    'leaf_size':[1,2,3,5],\n",
    "    'weights':['uniform', 'distance'],\n",
    "    'algorithm':['auto', 'ball_tree','kd_tree','brute'],\n",
    "    'n_jobs':[-1]\n",
    "}\n",
    "\n",
    "# Manually create the splits in CV in order to be able to fix a random_state (GridSearchCV doesn't have that argument)\n",
    "cv_sets = ShuffleSplit(n_splits = 3, test_size = .33, random_state = 8)"
   ]
  },
  {
   "cell_type": "code",
   "execution_count": 17,
   "metadata": {},
   "outputs": [
    {
     "name": "stdout",
     "output_type": "stream",
     "text": [
      "Fitting 3 folds for each of 192 candidates, totalling 576 fits\n"
     ]
    },
    {
     "name": "stderr",
     "output_type": "stream",
     "text": [
      "[Parallel(n_jobs=-1)]: Using backend LokyBackend with 4 concurrent workers.\n",
      "[Parallel(n_jobs=-1)]: Done  42 tasks      | elapsed:   23.2s\n",
      "[Parallel(n_jobs=-1)]: Done 192 tasks      | elapsed:  1.5min\n",
      "[Parallel(n_jobs=-1)]: Done 442 tasks      | elapsed:  7.9min\n",
      "[Parallel(n_jobs=-1)]: Done 576 out of 576 | elapsed:  9.8min finished\n"
     ]
    },
    {
     "name": "stdout",
     "output_type": "stream",
     "text": [
      "Fitting 3 folds for each of 192 candidates, totalling 576 fits\n"
     ]
    },
    {
     "name": "stderr",
     "output_type": "stream",
     "text": [
      "[Parallel(n_jobs=-1)]: Using backend LokyBackend with 4 concurrent workers.\n",
      "[Parallel(n_jobs=-1)]: Done  42 tasks      | elapsed:  4.0min\n",
      "[Parallel(n_jobs=-1)]: Done 192 tasks      | elapsed: 13.3min\n",
      "[Parallel(n_jobs=-1)]: Done 442 tasks      | elapsed: 27.1min\n"
     ]
    },
    {
     "name": "stdout",
     "output_type": "stream",
     "text": [
      "Hyperparameter Grid Search Feature 1 : \n",
      "{'algorithm': 'auto', 'leaf_size': 1, 'n_jobs': -1, 'n_neighbors': 5, 'weights': 'distance'}\n",
      "\n",
      "Mean Accuracy Model Grid Search Feature 1 :\n",
      "0.8684453227931489\n",
      "\n",
      "======================================================================\n",
      "\n",
      "Hyperparameter Grid Search Feature 2 : \n",
      "{'algorithm': 'auto', 'leaf_size': 1, 'n_jobs': -1, 'n_neighbors': 10, 'weights': 'distance'}\n",
      "\n",
      "Mean Accuracy Model Grid Search Feature 2 :\n",
      "0.6714756258234519\n"
     ]
    },
    {
     "name": "stderr",
     "output_type": "stream",
     "text": [
      "[Parallel(n_jobs=-1)]: Done 576 out of 576 | elapsed: 29.0min finished\n"
     ]
    }
   ],
   "source": [
    "# Instantiate the grid search model\n",
    "grid_search1 = GridSearchCV(estimator=classifier, \n",
    "                           param_grid=param_grid,\n",
    "                           scoring='accuracy',\n",
    "                           cv=cv_sets,\n",
    "                           verbose=1,\n",
    "                           n_jobs=-1) # paralel using all processor\n",
    "grid_search2 = GridSearchCV(estimator=classifier, \n",
    "                           param_grid=param_grid,\n",
    "                           scoring='accuracy',\n",
    "                           cv=cv_sets,\n",
    "                           verbose=1,\n",
    "                           n_jobs=-1) # paralel using all processor\n",
    "\n",
    "# Fit the grid search to the data\n",
    "grid_search1.fit(feature1_df_x_train, feature1_df_y_train.values.ravel())\n",
    "grid_search2.fit(feature2_df_x_train, feature2_df_y_train.values.ravel())\n",
    "\n",
    "# Result Tunning param using Grid Search\n",
    "print(\"Hyperparameter Grid Search Feature 1 : \")\n",
    "print(grid_search1.best_params_)\n",
    "print(\"\")\n",
    "print(\"Mean Accuracy Model Grid Search Feature 1 :\")\n",
    "print(grid_search1.best_score_)\n",
    "print(\"\")\n",
    "print(\"======================================================================\")\n",
    "print(\"\")\n",
    "print(\"Hyperparameter Grid Search Feature 2 : \")\n",
    "print(grid_search2.best_params_)\n",
    "print(\"\")\n",
    "print(\"Mean Accuracy Model Grid Search Feature 2 :\")\n",
    "print(grid_search2.best_score_)"
   ]
  },
  {
   "cell_type": "code",
   "execution_count": 20,
   "metadata": {},
   "outputs": [
    {
     "name": "stdout",
     "output_type": "stream",
     "text": [
      "KNeighborsClassifier(algorithm='auto', leaf_size=1, metric='minkowski',\n",
      "                     metric_params=None, n_jobs=-1, n_neighbors=5, p=2,\n",
      "                     weights='distance')\n",
      "\n",
      "KNeighborsClassifier(algorithm='auto', leaf_size=1, metric='minkowski',\n",
      "                     metric_params=None, n_jobs=-1, n_neighbors=10, p=2,\n",
      "                     weights='distance')\n"
     ]
    }
   ],
   "source": [
    "# prepare best knn classifier\n",
    "best_classifier_KNN1 = grid_search1.best_estimator_\n",
    "best_classifier_KNN2 = grid_search2.best_estimator_\n",
    "\n",
    "print(best_classifier_KNN1)\n",
    "print()\n",
    "print(best_classifier_KNN2)"
   ]
  },
  {
   "cell_type": "code",
   "execution_count": 21,
   "metadata": {},
   "outputs": [],
   "source": [
    "# do the prediction and test accuracy\n",
    "best_classifier_KNN1.fit(feature1_df_x_train, feature1_df_y_train.values.ravel())\n",
    "classifier_pred1 = best_classifier_KNN1.predict(feature1_df_x_test)\n",
    "\n",
    "best_classifier_KNN2.fit(feature2_df_x_train, feature2_df_y_train.values.ravel())\n",
    "classifier_pred2 = best_classifier_KNN2.predict(feature2_df_x_test)\n"
   ]
  },
  {
   "cell_type": "code",
   "execution_count": 22,
   "metadata": {},
   "outputs": [
    {
     "data": {
      "text/plain": [
       "KNeighborsClassifier(algorithm='auto', leaf_size=30, metric='minkowski',\n",
       "                     metric_params=None, n_jobs=None, n_neighbors=5, p=2,\n",
       "                     weights='uniform')"
      ]
     },
     "execution_count": 22,
     "metadata": {},
     "output_type": "execute_result"
    }
   ],
   "source": [
    "# compare accuracy with KNN without tunning parameter\n",
    "base_model_knn1 = KNeighborsClassifier()\n",
    "base_model_knn2 = KNeighborsClassifier()\n",
    "\n",
    "base_model_knn1.fit(feature1_df_x_train,feature1_df_y_train.values.ravel())\n",
    "base_model_knn2.fit(feature2_df_x_train,feature2_df_y_train.values.ravel())"
   ]
  },
  {
   "cell_type": "code",
   "execution_count": 23,
   "metadata": {},
   "outputs": [
    {
     "data": {
      "text/html": [
       "<div>\n",
       "<style scoped>\n",
       "    .dataframe tbody tr th:only-of-type {\n",
       "        vertical-align: middle;\n",
       "    }\n",
       "\n",
       "    .dataframe tbody tr th {\n",
       "        vertical-align: top;\n",
       "    }\n",
       "\n",
       "    .dataframe thead th {\n",
       "        text-align: right;\n",
       "    }\n",
       "</style>\n",
       "<table border=\"1\" class=\"dataframe\">\n",
       "  <thead>\n",
       "    <tr style=\"text-align: right;\">\n",
       "      <th></th>\n",
       "      <th>Model</th>\n",
       "      <th>Training Set Accuracy</th>\n",
       "      <th>Test Set Accuracy</th>\n",
       "    </tr>\n",
       "  </thead>\n",
       "  <tbody>\n",
       "    <tr>\n",
       "      <th>0</th>\n",
       "      <td>KNN feature 1 - Tunning</td>\n",
       "      <td>1.000000</td>\n",
       "      <td>0.875462</td>\n",
       "    </tr>\n",
       "    <tr>\n",
       "      <th>1</th>\n",
       "      <td>KNN feature 1 - Original</td>\n",
       "      <td>0.918145</td>\n",
       "      <td>0.874723</td>\n",
       "    </tr>\n",
       "    <tr>\n",
       "      <th>2</th>\n",
       "      <td>KNN feature 2 - Tunning</td>\n",
       "      <td>1.000000</td>\n",
       "      <td>0.678492</td>\n",
       "    </tr>\n",
       "    <tr>\n",
       "      <th>3</th>\n",
       "      <td>KNN feature 2 - Original</td>\n",
       "      <td>0.774589</td>\n",
       "      <td>0.654472</td>\n",
       "    </tr>\n",
       "  </tbody>\n",
       "</table>\n",
       "</div>"
      ],
      "text/plain": [
       "                      Model  Training Set Accuracy  Test Set Accuracy\n",
       "0   KNN feature 1 - Tunning               1.000000           0.875462\n",
       "1  KNN feature 1 - Original               0.918145           0.874723\n",
       "2   KNN feature 2 - Tunning               1.000000           0.678492\n",
       "3  KNN feature 2 - Original               0.774589           0.654472"
      ]
     },
     "execution_count": 23,
     "metadata": {},
     "output_type": "execute_result"
    }
   ],
   "source": [
    "\n",
    "d = [\n",
    "    {\n",
    "     'Model': 'KNN feature 1 - Tunning',\n",
    "     'Training Set Accuracy': accuracy_score(feature1_df_y_train, best_classifier_KNN1.predict(feature1_df_x_train)),\n",
    "     'Test Set Accuracy': accuracy_score(feature1_df_y_test, best_classifier_KNN1.predict(feature1_df_x_test))},\n",
    "    {\n",
    "     'Model': 'KNN feature 1 - Original',\n",
    "     'Training Set Accuracy': accuracy_score(feature1_df_y_train, base_model_knn1.predict(feature1_df_x_train)),\n",
    "     'Test Set Accuracy': accuracy_score(feature1_df_y_test, base_model_knn1.predict(feature1_df_x_test))},\n",
    "    {\n",
    "     'Model': 'KNN feature 2 - Tunning',\n",
    "     'Training Set Accuracy': accuracy_score(feature2_df_y_train, best_classifier_KNN2.predict(feature2_df_x_train)),\n",
    "     'Test Set Accuracy': accuracy_score(feature2_df_y_test, best_classifier_KNN2.predict(feature2_df_x_test))},\n",
    "    {\n",
    "     'Model': 'KNN feature 2 - Original',\n",
    "     'Training Set Accuracy': accuracy_score(feature2_df_y_train, base_model_knn2.predict(feature2_df_x_train)),\n",
    "     'Test Set Accuracy': accuracy_score(feature2_df_y_test,  base_model_knn2.predict(feature2_df_x_test))}\n",
    "]\n",
    "\n",
    "\n",
    "df_models = pd.DataFrame(d)\n",
    "df_models"
   ]
  },
  {
   "cell_type": "markdown",
   "metadata": {},
   "source": [
    "# Save Feature Model"
   ]
  },
  {
   "cell_type": "code",
   "execution_count": 27,
   "metadata": {},
   "outputs": [],
   "source": [
    "# save feature 1 with SVM\n",
    "filename = \"Model/model_feature1_svm_tunning.sav\"\n",
    "pickle.dump(best_classifier_SVM1, open(filename,'wb'))\n",
    "\n",
    "filename = \"Model/model_feature1_svm_default.sav\"\n",
    "pickle.dump(base_model_svm1, open(filename,'wb'))\n",
    "\n",
    "# save feature 2 with SVM\n",
    "filename = \"Model/model_feature2_svm_tunning.sav\"\n",
    "pickle.dump(best_classifier_SVM2, open(filename,'wb'))\n",
    "\n",
    "filename = \"Model/model_feature2_svm_default.sav\"\n",
    "pickle.dump(base_model_svm2, open(filename,'wb'))\n",
    "\n",
    "\n",
    "# save feature 1 with KNN\n",
    "filename = \"Model/model_feature1_knn_tunning.sav\"\n",
    "pickle.dump(best_classifier_KNN1, open(filename,'wb'))\n",
    "\n",
    "filename = \"Model/model_feature1_knn_default.sav\"\n",
    "pickle.dump(base_model_knn1, open(filename,'wb'))\n",
    "\n",
    "# save feature 2 with KNN\n",
    "filename = \"Model/model_feature2_knn_tunning.sav\"\n",
    "pickle.dump(best_classifier_KNN2, open(filename,'wb'))\n",
    "\n",
    "filename = \"Model/model_feature2_knn_default.sav\"\n",
    "pickle.dump(base_model_knn2, open(filename,'wb'))\n",
    "\n"
   ]
  }
 ],
 "metadata": {
  "kernelspec": {
   "display_name": "Python 3",
   "language": "python",
   "name": "python3"
  },
  "language_info": {
   "codemirror_mode": {
    "name": "ipython",
    "version": 3
   },
   "file_extension": ".py",
   "mimetype": "text/x-python",
   "name": "python",
   "nbconvert_exporter": "python",
   "pygments_lexer": "ipython3",
   "version": "3.6.9"
  }
 },
 "nbformat": 4,
 "nbformat_minor": 4
}
