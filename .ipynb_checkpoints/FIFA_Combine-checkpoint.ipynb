{
 "cells": [
  {
   "cell_type": "markdown",
   "metadata": {},
   "source": [
    "# Combine Clustering and Classification"
   ]
  },
  {
   "cell_type": "markdown",
   "metadata": {},
   "source": [
    "dengan menggunakan feature yang sama menggabungkan hasil clustering dengan menggunakan K-Means, lalu Klasifikasi dengan menggunakan metode dengan akurasi terbesar SVM."
   ]
  },
  {
   "cell_type": "markdown",
   "metadata": {},
   "source": [
    "## Prepare Library"
   ]
  },
  {
   "cell_type": "code",
   "execution_count": 1,
   "metadata": {},
   "outputs": [],
   "source": [
    "import pickle\n",
    "\n",
    "import pandas as pd\n",
    "import numpy as np\n",
    "import seaborn as sns\n",
    "import plotly.express as px\n",
    "import matplotlib.pyplot as plt\n",
    "import matplotlib.cm as cm\n",
    "\n",
    "from pprint import pprint\n",
    "\n",
    "from sklearn.ensemble import RandomForestClassifier\n",
    "from sklearn import svm\n",
    "from sklearn.neighbors import KNeighborsClassifier\n",
    "from sklearn.naive_bayes import MultinomialNB\n",
    "from sklearn.linear_model import LogisticRegression\n",
    "\n",
    "from sklearn.decomposition import PCA\n",
    "from sklearn.model_selection import RandomizedSearchCV\n",
    "from sklearn.model_selection import GridSearchCV\n",
    "from sklearn.metrics import classification_report, confusion_matrix, accuracy_score\n",
    "from sklearn.model_selection import ShuffleSplit\n",
    "from sklearn.cluster import KMeans"
   ]
  },
  {
   "cell_type": "markdown",
   "metadata": {},
   "source": [
    "## Load Data"
   ]
  },
  {
   "cell_type": "code",
   "execution_count": 2,
   "metadata": {},
   "outputs": [],
   "source": [
    "# load all feature\n",
    "feature1_df_path = 'Data/feature1_fifa.csv'\n",
    "feature1_df = pd.read_csv(feature1_df_path,sep=';')\n",
    "\n",
    "feature1_df_x_train_path = 'Data/feature1_X_train.csv'\n",
    "feature1_df_x_train = pd.read_csv(feature1_df_x_train_path,sep=';')\n",
    "\n",
    "feature1_df_x_test_path = 'Data/feature1_X_test.csv'\n",
    "feature1_df_x_test = pd.read_csv(feature1_df_x_test_path,sep=';')\n",
    "\n",
    "feature1_df_y_train_path = 'Data/feature1_Y_train.csv'\n",
    "feature1_df_y_train = pd.read_csv(feature1_df_y_train_path,sep=';')\n",
    "\n",
    "feature1_df_y_test_path = 'Data/feature1_Y_test.csv'\n",
    "feature1_df_y_test = pd.read_csv(feature1_df_y_test_path,sep=';')"
   ]
  },
  {
   "cell_type": "code",
   "execution_count": 3,
   "metadata": {},
   "outputs": [],
   "source": [
    "#remove unused column 'overall(0)' and 'potential(1)'\n",
    "feature1_df = feature1_df.drop(['0','1','2'], axis=1)\n",
    "feature1_df_x_train = feature1_df_x_train.drop(['0','1','2'], axis=1)\n",
    "feature1_df_x_test = feature1_df_x_test.drop(['0','1','2'], axis=1)"
   ]
  },
  {
   "cell_type": "code",
   "execution_count": 4,
   "metadata": {},
   "outputs": [],
   "source": [
    "# combine column and create X and Y  \n",
    "pca = PCA(n_components=2)\n",
    "pca_data_train = pca.fit_transform(feature1_df_x_train)\n",
    "pca_data_test = pca.fit_transform(feature1_df_x_test)\n",
    "pca_df_train = pd.DataFrame(data = pca_data_train\n",
    "             , columns = ['PCA X', 'PCA Y'])\n",
    "pca_df_test = pd.DataFrame(data = pca_data_test\n",
    "             , columns = ['PCA X', 'PCA Y'])"
   ]
  },
  {
   "cell_type": "code",
   "execution_count": 5,
   "metadata": {},
   "outputs": [],
   "source": [
    "colors = [\n",
    "    'aliceblue',\n",
    "     'antiquewhite',\n",
    "     'aqua',\n",
    "     'aquamarine',\n",
    "     'azure',\n",
    "     'beige',\n",
    "     'bisque',\n",
    "     'black',\n",
    "     'blanchedalmond',\n",
    "     'blue',\n",
    "     'blueviolet',\n",
    "     'brown',\n",
    "     'burlywood',\n",
    "     'cadetblue',\n",
    "     'chartreuse',\n",
    "     'chocolate',\n",
    "     'coral',\n",
    "     'cornflowerblue',\n",
    "     'cornsilk',\n",
    "     'crimson',\n",
    "     'cyan',\n",
    "     'darkblue',\n",
    "     'darkcyan',\n",
    "     'darkgoldenrod',\n",
    "     'darkgray',\n",
    "     'darkgreen',\n",
    "     'darkgrey',\n",
    "     'darkkhaki',\n",
    "     'darkmagenta'\n",
    "]\n",
    "labels=[\n",
    "    'cluster1','cluster2','cluster3','cluster4','cluster5',\n",
    "    'cluster6','cluster7','cluster8','cluster9','cluster10',\n",
    "    'cluster11','cluster12','cluster13','cluster14','cluster15',\n",
    "    'cluster16','cluster17','cluster18','cluster19','cluster20',\n",
    "    'cluster21','cluster22','cluster23','cluster24','cluster25',\n",
    "    'cluster26','cluster27','cluster28','cluster29']"
   ]
  },
  {
   "cell_type": "markdown",
   "metadata": {},
   "source": [
    "## Clustering"
   ]
  },
  {
   "cell_type": "code",
   "execution_count": 6,
   "metadata": {},
   "outputs": [],
   "source": [
    "def clustering(iteration = 150): \n",
    "    # Fitting K-Means to the dataset\n",
    "    k = len(np.unique(feature1_df_y_train))\n",
    "    kmeans = KMeans(n_clusters = k, init = 'k-means++', random_state = iteration)\n",
    "    y_kmeans = kmeans.fit_predict(pca_df_train)\n",
    "    \n",
    "    label_train = kmeans.labels_\n",
    "    label_test = kmeans.predict(pca_df_test)\n",
    "    \n",
    "    datas_train = feature1_df_x_train\n",
    "    datas_test = feature1_df_x_test\n",
    "    \n",
    "    datas_train['k_cluster'] =  label_train\n",
    "    datas_test['k_cluster'] = label_test\n",
    "    \n",
    "    # Visualising the clusters\n",
    "    for i in range(k):\n",
    "        plt.scatter(pca_df_train.values[y_kmeans == i, 0], pca_df_train.values[y_kmeans == i, 1], s = 100, c = colors[i], label = label_train[i])\n",
    "\n",
    "    plt.scatter(kmeans.cluster_centers_[:, 0], kmeans.cluster_centers_[:, 1], s=10,c='violet',label='Centroids')\n",
    "\n",
    "    plt.title('Clusters of KMeans')\n",
    "    plt.xlabel('attacker_point')\n",
    "    plt.ylabel('keeper_point')\n",
    "    plt.legend()\n",
    "    \n",
    "    return datas_train,datas_test, plt"
   ]
  },
  {
   "cell_type": "markdown",
   "metadata": {},
   "source": [
    "## Classification\n",
    "using SVM with hyper parameter : \n",
    "\n",
    "{\n",
    "    C=0.01, break_ties=False, cache_size=200, class_weight=None, coef0=0.0,\n",
    "    decision_function_shape='ovr', degree=4, gamma=10, kernel='poly',\n",
    "    max_iter=-1, probability=False, random_state=8, shrinking=True, tol=0.001,\n",
    "    verbose=False\n",
    "}\n",
    "\n",
    "(99% accuration)"
   ]
  },
  {
   "cell_type": "code",
   "execution_count": 7,
   "metadata": {},
   "outputs": [],
   "source": [
    "def classification(x_train,x_test,y_train,y_test):\n",
    "    base_model_svm = svm.SVC(\n",
    "        C=0.01, break_ties=False, cache_size=200, class_weight=None, coef0=0.0,\n",
    "        decision_function_shape='ovr', degree=4, gamma=10, kernel='poly',\n",
    "        max_iter=-1, probability=False, random_state=8, shrinking=True, tol=0.001,\n",
    "        verbose=False)\n",
    "    \n",
    "    \n",
    "    base_model_svm.fit(x_train,y_train.values.ravel())\n",
    "    \n",
    "    accuracy_train = accuracy_score(y_train, base_model_svm.predict(x_train))\n",
    "    accuracy_test = accuracy_score(y_test, base_model_svm.predict(x_test))\n",
    "    \n",
    "    return accuracy_train, accuracy_test, base_model_svm"
   ]
  },
  {
   "cell_type": "markdown",
   "metadata": {},
   "source": [
    "## Result\n"
   ]
  },
  {
   "cell_type": "code",
   "execution_count": 8,
   "metadata": {},
   "outputs": [
    {
     "name": "stdout",
     "output_type": "stream",
     "text": [
      "hasil clustering\n",
      "================= Train =================\n",
      "              3         4         5         6         7         8         9  \\\n",
      "0      0.327789  1.115995  0.934872  0.794929 -0.259582  0.775891 -0.349982   \n",
      "1      0.285708  0.403849  0.201599  0.475004 -0.393680 -0.209350 -0.349982   \n",
      "2      0.201545 -0.213344 -0.140595  0.063673  0.321509  0.328054 -0.349982   \n",
      "3     -0.093026 -0.165867  0.054945 -0.027734  0.455607  0.238487 -0.349982   \n",
      "4      1.001094  0.593755  0.494908  0.749226 -0.483079 -0.388484 -0.349982   \n",
      "...         ...       ...       ...       ...       ...       ...       ...   \n",
      "15327  0.369871  0.783661  0.885987  0.612115  0.857901  0.686324 -0.349982   \n",
      "15328  0.959012  0.451326  0.397139  0.840633 -0.840673  0.014569 -0.349982   \n",
      "15329  0.622360  0.878613  0.250484  0.475004 -0.438379  0.372838 -0.349982   \n",
      "15330  0.790686  0.736184  1.032641  0.840633  1.081397  0.551973 -0.349982   \n",
      "15331  1.127338  0.973566  0.885987  0.840633 -0.393680 -0.388484 -0.349982   \n",
      "\n",
      "             10        11        12        13        14  k_cluster  \n",
      "0     -0.350148 -0.349834 -0.349762 -0.338017 -0.349241         16  \n",
      "1     -0.350148 -0.349834 -0.349762 -0.338017 -0.349241         25  \n",
      "2     -0.350148 -0.349834 -0.349762 -0.338017 -0.349241         17  \n",
      "3     -0.350148 -0.349834 -0.349762 -0.338017 -0.349241          9  \n",
      "4     -0.350148 -0.349834 -0.349762 -0.338017 -0.349241          2  \n",
      "...         ...       ...       ...       ...       ...        ...  \n",
      "15327 -0.350148 -0.349834 -0.349762 -0.338017 -0.349241          8  \n",
      "15328 -0.350148 -0.349834 -0.349762 -0.338017 -0.349241          2  \n",
      "15329 -0.350148 -0.349834 -0.349762 -0.338017 -0.349241          2  \n",
      "15330 -0.350148 -0.349834 -0.349762 -0.338017 -0.349241         24  \n",
      "15331 -0.350148 -0.349834 -0.349762 -0.338017 -0.349241         19  \n",
      "\n",
      "[15332 rows x 13 columns]\n",
      "================= Test  =================\n",
      "             3         4         5         6         7         8         9  \\\n",
      "0     0.117382 -0.070915 -0.042825  0.109376 -0.438379 -0.701970 -0.349982   \n",
      "1     0.496115  0.546279  0.739332  0.566411  0.723803  0.372838 -0.349982   \n",
      "2     0.327789 -0.688108  0.006060  0.337894  1.170796  0.507189 -0.349982   \n",
      "3     0.285708 -0.355773  0.250484  0.200783  0.589705  0.641540 -0.349982   \n",
      "4     0.201545  0.118991  0.054945  0.063673 -0.483079 -0.298917 -0.349982   \n",
      "...        ...       ...       ...       ...       ...       ...       ...   \n",
      "2701  0.075300 -0.735584 -0.433904 -0.347659  0.813201  0.641540 -0.349982   \n",
      "2702 -0.471760 -0.640631 -0.433904 -0.667584  0.947299  0.820675 -0.349982   \n",
      "2703  0.538197  0.593755  0.641563  0.429301 -0.036086  0.328054 -0.349982   \n",
      "2704  0.580278  0.356373  0.690448  0.520708  0.053313 -0.433268 -0.349982   \n",
      "2705  0.159463  0.926090  0.201599  0.337894 -0.661876  0.238487 -0.349982   \n",
      "\n",
      "            10        11        12        13        14  k_cluster  \n",
      "0    -0.350148 -0.349834 -0.349762 -0.338017 -0.349241         17  \n",
      "1    -0.350148 -0.349834 -0.349762 -0.338017 -0.349241         10  \n",
      "2    -0.350148 -0.349834 -0.349762 -0.338017 -0.349241         14  \n",
      "3    -0.350148 -0.349834 -0.349762 -0.338017 -0.349241         25  \n",
      "4    -0.350148 -0.349834 -0.349762 -0.338017 -0.349241         17  \n",
      "...        ...       ...       ...       ...       ...        ...  \n",
      "2701 -0.350148 -0.349834 -0.349762 -0.338017 -0.349241         14  \n",
      "2702 -0.350148 -0.349834 -0.349762 -0.338017 -0.349241         14  \n",
      "2703 -0.350148 -0.349834 -0.349762 -0.338017 -0.349241         20  \n",
      "2704 -0.350148 -0.349834 -0.349762 -0.338017 -0.349241         20  \n",
      "2705 -0.350148 -0.349834 -0.349762 -0.338017 -0.349241          9  \n",
      "\n",
      "[2706 rows x 13 columns]\n",
      "=============== Plotting ================\n"
     ]
    },
    {
     "data": {
      "image/png": "[encoded data removed]",
      "text/plain": [
       "<Figure size 432x288 with 1 Axes>"
      ]
     },
     "metadata": {
      "needs_background": "light"
     },
     "output_type": "display_data"
    },
    {
     "name": "stdout",
     "output_type": "stream",
     "text": [
      "\n",
      "\n"
     ]
    }
   ],
   "source": [
    "## hasil Cluster\n",
    "datas_train,datas_test, plt = clustering()\n",
    "print(\"hasil clustering\")\n",
    "print('================= Train =================')\n",
    "print(datas_train)\n",
    "print('================= Test  =================')\n",
    "print(datas_test)\n",
    "print('=============== Plotting ================')\n",
    "plt.show()\n",
    "print()\n",
    "print()"
   ]
  },
  {
   "cell_type": "code",
   "execution_count": null,
   "metadata": {},
   "outputs": [],
   "source": [
    "## Hasil Classification\n",
    "accuracy_train, accuracy_test, svm_model = classification(datas_train,datas_test,feature1_df_y_train,feature1_df_y_test)\n",
    "\n",
    "print(\"Hasil Classifikasi\")\n",
    "print(\"Akurasi data Train : \")\n",
    "print(accuracy_train)\n",
    "print(\"Akurasi data Test : \")\n",
    "print(accuracy_test)"
   ]
  },
  {
   "cell_type": "markdown",
   "metadata": {},
   "source": [
    "## Testing Result"
   ]
  },
  {
   "cell_type": "code",
   "execution_count": null,
   "metadata": {},
   "outputs": [],
   "source": []
  }
 ],
 "metadata": {
  "kernelspec": {
   "display_name": "Python 3",
   "language": "python",
   "name": "python3"
  },
  "language_info": {
   "codemirror_mode": {
    "name": "ipython",
    "version": 3
   },
   "file_extension": ".py",
   "mimetype": "text/x-python",
   "name": "python",
   "nbconvert_exporter": "python",
   "pygments_lexer": "ipython3",
   "version": "3.6.9"
  }
 },
 "nbformat": 4,
 "nbformat_minor": 4
}
